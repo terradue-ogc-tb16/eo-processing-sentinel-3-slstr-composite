{
 "cells": [
  {
   "cell_type": "markdown",
   "metadata": {},
   "source": [
    "##  Sentinel-3 SLSTR composites"
   ]
  },
  {
   "cell_type": "markdown",
   "metadata": {},
   "source": [
    "### Service Definition"
   ]
  },
  {
   "cell_type": "code",
   "execution_count": null,
   "metadata": {
    "collapsed": true
   },
   "outputs": [],
   "source": [
    "service = dict([('title', 'Sentinel-3 SLSTR composites'),\n",
    "                ('abstract', 'Sentinel-3 SLSTR composites for descending acquisitions'),\n",
    "                ('id', 'ewf-s3-slstr-composites')])"
   ]
  },
  {
   "cell_type": "markdown",
   "metadata": {},
   "source": [
    "### Parameter Definition "
   ]
  },
  {
   "cell_type": "code",
   "execution_count": null,
   "metadata": {},
   "outputs": [],
   "source": [
    "false_color_infrared = dict([('id', 'false_color_infrared'),\n",
    "                       ('title', 'False Color Infrared (S3, S2, S1)'),\n",
    "                       ('abstract', 'False Color Infrared (S3, S2, S1)'),\n",
    "                       ('value', 'Yes'),\n",
    "                       ('options', 'Yes,No')])"
   ]
  },
  {
   "cell_type": "code",
   "execution_count": null,
   "metadata": {},
   "outputs": [],
   "source": [
    "false_color_1 = dict([('id', 'false_color_1'),\n",
    "                       ('title', 'False Color 1 (S8, S1, S5)'),\n",
    "                       ('abstract', 'False Color 1 (S8, S1, S5)'),\n",
    "                       ('value', 'Yes'),\n",
    "                       ('options', 'Yes,No')])"
   ]
  },
  {
   "cell_type": "code",
   "execution_count": null,
   "metadata": {},
   "outputs": [],
   "source": [
    "false_color_2 = dict([('id', 'false_color_2'),\n",
    "                       ('title', 'False Color 2 (S5, S3, S2)'),\n",
    "                       ('abstract', 'False Color 2 (S5, S3, S2)'),\n",
    "                       ('value', 'Yes'),\n",
    "                       ('options', 'Yes,No')])"
   ]
  },
  {
   "cell_type": "markdown",
   "metadata": {},
   "source": [
    "### Runtime parameter definition"
   ]
  },
  {
   "cell_type": "markdown",
   "metadata": {},
   "source": [
    "**Input reference**\n",
    "\n",
    "The input identifier is the catalogue entry URL (a.k.a. self value)."
   ]
  },
  {
   "cell_type": "code",
   "execution_count": null,
   "metadata": {
    "collapsed": false
   },
   "outputs": [],
   "source": [
    "input_reference = dict([('identifier', 'input_reference'),\n",
    "                        ('title', 'Sentinel-3 SLSTR Level-1 (SL_1_RBT___ descending pass)'),\n",
    "                        ('abstract', 'This service takes as input a Sentinel-3 SLSTR Level 1 (SL_1_RBT___) product on DESCENDING pass and does False Colour RGB composites'),\n",
    "                        ('value', 'https://catalog.terradue.com/sentinel3/search?uid=S3B_SL_1_RBT____20190522T044019_20190522T044319_20190523T100228_0179_025_304_2520_LN2_O_NT_003')])"
   ]
  },
  {
   "cell_type": "markdown",
   "metadata": {},
   "source": [
    "**Data path**\n",
    "\n",
    "This path defines where the data is staged-in. "
   ]
  },
  {
   "cell_type": "code",
   "execution_count": null,
   "metadata": {
    "collapsed": true
   },
   "outputs": [],
   "source": [
    "data_path = '/workspace/data'"
   ]
  },
  {
   "cell_type": "markdown",
   "metadata": {},
   "source": [
    "### Workflow"
   ]
  },
  {
   "cell_type": "markdown",
   "metadata": {},
   "source": [
    "#### Import the packages"
   ]
  },
  {
   "cell_type": "code",
   "execution_count": null,
   "metadata": {},
   "outputs": [],
   "source": [
    "import os\n",
    "import sys\n",
    "sys.path.append(os.path.join(os.environ['PREFIX'], 'conda-otb/lib/python'))\n",
    "os.environ['OTB_APPLICATION_PATH'] = os.path.join(os.environ['PREFIX'], 'conda-otb/lib/otb/applications')\n",
    "os.environ['GDAL_DATA'] =  os.path.join(os.environ['PREFIX'], 'share/gdal')\n",
    "os.environ['PROJ_LIB'] = os.path.join(os.environ['PREFIX'], 'share/proj')\n",
    "os.environ['GPT_BIN'] = os.path.join(os.environ['PREFIX'], 'snap/bin/gpt')\n",
    "import otbApplication\n",
    "import gdal\n",
    "from helpers import *\n",
    "import geopandas as gp\n",
    "import pandas as pd\n",
    "from shapely.wkt import loads\n",
    "from shapely.geometry import box\n",
    "import cioppy\n",
    "import shutil\n",
    "gdal.UseExceptions()"
   ]
  },
  {
   "cell_type": "code",
   "execution_count": null,
   "metadata": {},
   "outputs": [],
   "source": [
    "%load_ext autoreload\n",
    "%autoreload 2"
   ]
  },
  {
   "cell_type": "markdown",
   "metadata": {},
   "source": [
    "### Get product metadata"
   ]
  },
  {
   "cell_type": "code",
   "execution_count": null,
   "metadata": {},
   "outputs": [],
   "source": [
    "ciop = cioppy.Cioppy()"
   ]
  },
  {
   "cell_type": "code",
   "execution_count": null,
   "metadata": {},
   "outputs": [],
   "source": [
    "input_metadata = gp.GeoDataFrame(ciop.search(end_point=input_reference['value'], \n",
    "                                 params=[],\n",
    "                                 output_fields='identifier,self,wkt,startdate,enddate,enclosure,orbitDirection', \n",
    "                                 model='EOP'))\n",
    "\n",
    "\n",
    "input_metadata['geometry'] = input_metadata['wkt'].apply(loads)\n",
    "input_metadata['startdate'] = pd.to_datetime(input_metadata['startdate'])\n",
    "input_metadata['enddate'] = pd.to_datetime(input_metadata['enddate'])"
   ]
  },
  {
   "cell_type": "code",
   "execution_count": null,
   "metadata": {},
   "outputs": [],
   "source": [
    "input_metadata"
   ]
  },
  {
   "cell_type": "code",
   "execution_count": null,
   "metadata": {},
   "outputs": [],
   "source": [
    "if input_metadata.iloc[0]['orbitDirection'] != 'DESCENDING':\n",
    "    ciop.log('ERROR','Product cannot be used as input')\n",
    "    raise Exception('Only use products with Orbit=Descending')"
   ]
  },
  {
   "cell_type": "markdown",
   "metadata": {},
   "source": [
    "### Import Sentinel-3 SLSTR product"
   ]
  },
  {
   "cell_type": "code",
   "execution_count": null,
   "metadata": {},
   "outputs": [],
   "source": [
    "operators = ['Read', \n",
    "             'Rad2Refl',\n",
    "             'Resample',\n",
    "             'Reproject',\n",
    "             'Write']"
   ]
  },
  {
   "cell_type": "code",
   "execution_count": null,
   "metadata": {},
   "outputs": [],
   "source": [
    "read = dict()\n",
    "\n",
    "s3_path = '{0}/{1}/{1}.SEN3/xfdumanifest.xml'.format(data_path, input_metadata.iloc[0]['identifier'])\n",
    "\n",
    "read['file'] =  s3_path\n",
    "read['formatName'] = 'Sen3_SLSTRL1B_500m'\n",
    "\n",
    "rad2refl = dict()\n",
    "\n",
    "rad2refl['sensor'] = 'SLSTR_500m'\n",
    "rad2refl['copyTiePointGrids'] = 'true'\n",
    "rad2refl['copyFlagBandsAndMasks'] = 'true'\n",
    "rad2refl['copyNonSpectralBands'] = 'true'\n",
    "\n",
    "resample = dict()\n",
    "resample['referenceBandName'] = 'F1_BT_in'\n",
    "\n",
    "reproject = dict()\n",
    "reproject['crs'] = 'EPSG:4326'\n",
    "\n",
    "write = dict()\n",
    "write['file'] = 's3_slstr'"
   ]
  },
  {
   "cell_type": "code",
   "execution_count": null,
   "metadata": {},
   "outputs": [],
   "source": [
    "snap_graph(os.environ['GPT_BIN'],\n",
    "           operators,\n",
    "              Read=read, \n",
    "              Rad2Refl=rad2refl,\n",
    "              Resample=resample,\n",
    "              Reproject=reproject,\n",
    "              Write=write)"
   ]
  },
  {
   "cell_type": "markdown",
   "metadata": {},
   "source": [
    "### RGB Composites"
   ]
  },
  {
   "cell_type": "code",
   "execution_count": null,
   "metadata": {},
   "outputs": [],
   "source": [
    "output_startdate = input_metadata.iloc[0]['startdate']\n",
    "output_stopdate = input_metadata.iloc[0]['enddate']"
   ]
  },
  {
   "cell_type": "code",
   "execution_count": null,
   "metadata": {},
   "outputs": [],
   "source": [
    "composites = dict()\n",
    "\n",
    "composites['S3 SLSTR False color Infrared'] = {'bands': 'S3_reflectance_an,S2_reflectance_an,S1_reflectance_an',\n",
    "                                               'create': True if (false_color_infrared['value'] == 'Yes') else False,\n",
    "                                               'hfact': 3.0}\n",
    "\n",
    "composites['S3 SLSTR False color 1'] = {'bands': 'S8_BT_in,S1_reflectance_an,S5_reflectance_an',\n",
    "                                               'create': True if (false_color_1['value'] == 'Yes') else False,\n",
    "                                               'hfact': 3.0}\n",
    "\n",
    "composites['S3 SLSTR False color 2'] = {'bands': 'S5_reflectance_an,S3_reflectance_an,S2_reflectance_an',\n",
    "                                               'create': True if (false_color_2['value'] == 'Yes') else False,\n",
    "                                               'hfact': 3.0}"
   ]
  },
  {
   "cell_type": "code",
   "execution_count": null,
   "metadata": {},
   "outputs": [],
   "source": [
    "for k, v in composites.items():\n",
    "    \n",
    "    print(k)\n",
    "    \n",
    "    bands = [os.path.join(write['file'] + '.data',  '{}.img'.format(band)) for band in (composites[k]['bands'].split(',') +  \n",
    "                                                                         ['cloud_an',\n",
    "                                                                          'confidence_an',\n",
    "                                                                          'S2_exception_an'])]\n",
    "    \n",
    "    print(bands)\n",
    "    \n",
    "    ds = gdal.Open(bands[0])\n",
    "\n",
    "    geo_transform = ds.GetGeoTransform()\n",
    "    projection_ref = ds.GetProjectionRef()\n",
    "    \n",
    "    ds = None\n",
    "    \n",
    "    s3_rgb_data = read_s3(bands)\n",
    "    \n",
    "    red = s3_rgb_data[:,:,0]\n",
    "    green = s3_rgb_data[:,:,1]\n",
    "    blue = s3_rgb_data[:,:,2]\n",
    "    cloud = s3_rgb_data[:,:,3]\n",
    "    confidence = s3_rgb_data[:,:,4]\n",
    "    exception = s3_rgb_data[:,:,5]\n",
    "\n",
    "    date_format = '%Y%m%dT%H%m%S'\n",
    "    \n",
    "    output_name = '-'.join([k.replace(' ', '-').upper(), \n",
    "                            output_startdate.strftime(date_format), \n",
    "                            output_startdate.strftime(date_format)])\n",
    "    \n",
    "    s3_rgb_composite(red, \n",
    "                     green,\n",
    "                     blue, \n",
    "                     cloud, \n",
    "                     confidence,\n",
    "                     exception,\n",
    "                     geo_transform,\n",
    "                     projection_ref, \n",
    "                     output_name + '.tif')\n",
    "    \n",
    "     # PNG\n",
    "    gdal.Translate('{}.png'.format(output_name), \n",
    "                   '{}.tif'.format(output_name), \n",
    "                   format='PNG')\n",
    "\n",
    "    os.remove('{}.png.aux.xml'.format(output_name))\n",
    "    \n",
    "    \n",
    "    date_format = '%Y-%m-%dT%H:%m:%S'\n",
    "    \n",
    "    with open(output_name + '.tif.properties', 'w') as file:\n",
    "        file.write('title={} ({}/{})\\n'.format(k, \n",
    "                                               output_startdate.strftime(date_format),\n",
    "                                               output_stopdate.strftime(date_format)))\n",
    "\n",
    "        file.write('date={}Z/{}Z\\n'.format(output_startdate.strftime(date_format),\n",
    "                                               output_stopdate.strftime(date_format)))   \n",
    "        file.write('geometry={}'.format(input_metadata.iloc[0].wkt))\n",
    "\n",
    "   \n",
    "\n",
    "    with open(output_name + '.png.properties', 'w') as file:\n",
    "        file.write('title={} - Quicklook ({}/{})\\n'.format(k, \n",
    "                                               output_startdate.strftime(date_format),\n",
    "                                               output_stopdate.strftime(date_format)))\n",
    "\n",
    "        file.write('date={}Z/{}Z\\n'.format(output_startdate.strftime(date_format),\n",
    "                                           output_stopdate.strftime(date_format)))   \n",
    "        file.write('geometry={}'.format(input_metadata.iloc[0].wkt))"
   ]
  },
  {
   "cell_type": "markdown",
   "metadata": {},
   "source": [
    "### Clean-up"
   ]
  },
  {
   "cell_type": "code",
   "execution_count": null,
   "metadata": {},
   "outputs": [],
   "source": [
    "shutil.rmtree('{}.data'.format(write['file']))"
   ]
  },
  {
   "cell_type": "code",
   "execution_count": null,
   "metadata": {},
   "outputs": [],
   "source": [
    "os.remove('{}.dim'.format(write['file']))"
   ]
  },
  {
   "cell_type": "markdown",
   "metadata": {},
   "source": [
    "### License"
   ]
  },
  {
   "cell_type": "markdown",
   "metadata": {},
   "source": [
    "This work is licenced under a [Attribution-ShareAlike 4.0 International License (CC BY-SA 4.0)](http://creativecommons.org/licenses/by-sa/4.0/) \n",
    "\n",
    "YOU ARE FREE TO:\n",
    "\n",
    "* Share - copy and redistribute the material in any medium or format.\n",
    "* Adapt - remix, transform, and built upon the material for any purpose, even commercially.\n",
    "\n",
    "UNDER THE FOLLOWING TERMS:\n",
    "\n",
    "* Attribution - You must give appropriate credit, provide a link to the license, and indicate if changes were made. You may do so in any reasonable manner, but not in any way that suggests the licensor endorses you or your use.\n",
    "* ShareAlike - If you remix, transform, or build upon the material, you must distribute your contributions under the same license as the original."
   ]
  },
  {
   "cell_type": "code",
   "execution_count": null,
   "metadata": {
    "collapsed": true
   },
   "outputs": [],
   "source": []
  }
 ],
 "metadata": {
  "kernelspec": {
   "display_name": "Python [conda env:.conda-env_s3]",
   "language": "python",
   "name": "conda-env-.conda-env_s3-py"
  },
  "language_info": {
   "codemirror_mode": {
    "name": "ipython",
    "version": 3
   },
   "file_extension": ".py",
   "mimetype": "text/x-python",
   "name": "python",
   "nbconvert_exporter": "python",
   "pygments_lexer": "ipython3",
   "version": "3.5.5"
  }
 },
 "nbformat": 4,
 "nbformat_minor": 2
}
