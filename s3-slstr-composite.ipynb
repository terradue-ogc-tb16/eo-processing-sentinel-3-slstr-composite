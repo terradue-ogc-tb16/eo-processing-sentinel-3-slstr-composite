{
 "cells": [
  {
   "cell_type": "markdown",
   "metadata": {},
   "source": [
    "##  Sentinel-3 SLSTR composites"
   ]
  },
  {
   "cell_type": "markdown",
   "metadata": {},
   "source": [
    "### Service Definition"
   ]
  },
  {
   "cell_type": "code",
   "execution_count": 1,
   "metadata": {
    "collapsed": true
   },
   "outputs": [],
   "source": [
    "service = dict([('title', 'Sentinel-3 SLSTR composites'),\n",
    "                ('abstract', 'Sentinel-3 SLSTR composites for descending acquisitions'),\n",
    "                ('id', 'ewf-s3-slstr-composites')])"
   ]
  },
  {
   "cell_type": "markdown",
   "metadata": {},
   "source": [
    "### Parameter Definition "
   ]
  },
  {
   "cell_type": "code",
   "execution_count": 2,
   "metadata": {},
   "outputs": [],
   "source": [
    "false_color_infrared = dict([('id', 'false_color_infrared'),\n",
    "                       ('title', 'False Color Infrared (S3, S2, S1)'),\n",
    "                       ('abstract', 'False Color Infrared (S3, S2, S1)'),\n",
    "                       ('value', 'Yes'),\n",
    "                       ('options', 'Yes,No')])"
   ]
  },
  {
   "cell_type": "code",
   "execution_count": 3,
   "metadata": {},
   "outputs": [],
   "source": [
    "false_color_1 = dict([('id', 'false_color_1'),\n",
    "                       ('title', 'False Color 1 (S8, S1, S5)'),\n",
    "                       ('abstract', 'False Color 1 (S8, S1, S5)'),\n",
    "                       ('value', 'Yes'),\n",
    "                       ('options', 'Yes,No')])"
   ]
  },
  {
   "cell_type": "code",
   "execution_count": 4,
   "metadata": {},
   "outputs": [],
   "source": [
    "false_color_2 = dict([('id', 'false_color_2'),\n",
    "                       ('title', 'False Color 2 (S5, S3, S2)'),\n",
    "                       ('abstract', 'False Color 2 (S5, S3, S2)'),\n",
    "                       ('value', 'Yes'),\n",
    "                       ('options', 'Yes,No')])"
   ]
  },
  {
   "cell_type": "markdown",
   "metadata": {},
   "source": [
    "### Runtime parameter definition"
   ]
  },
  {
   "cell_type": "markdown",
   "metadata": {},
   "source": [
    "**Input reference**\n",
    "\n",
    "The input identifier is the catalogue entry URL (a.k.a. self value)."
   ]
  },
  {
   "cell_type": "code",
   "execution_count": 24,
   "metadata": {
    "collapsed": false
   },
   "outputs": [],
   "source": [
    "input_reference = dict([('identifier', 'input_reference'),\n",
    "                        ('title', 'Sentinel-3 SLSTR Level-1 (SL_1_RBT___ descending pass)'),\n",
    "                        ('abstract', 'This service takes as input a Sentinel-3 SLSTR Level 1 (SL_1_RBT___) product on DESCENDING pass and does False Colour RGB composites'),\n",
    "                        ('value', 'https://catalog.terradue.com/sentinel3/search?uid=S3B_SL_1_RBT____20190522T044019_20190522T044319_20190523T100228_0179_025_304_2520_LN2_O_NT_003')])"
   ]
  },
  {
   "cell_type": "markdown",
   "metadata": {},
   "source": [
    "**Data path**\n",
    "\n",
    "This path defines where the data is staged-in. "
   ]
  },
  {
   "cell_type": "code",
   "execution_count": 25,
   "metadata": {
    "collapsed": true
   },
   "outputs": [],
   "source": [
    "data_path = '/new_disk/data'"
   ]
  },
  {
   "cell_type": "markdown",
   "metadata": {},
   "source": [
    "### Workflow"
   ]
  },
  {
   "cell_type": "code",
   "execution_count": 26,
   "metadata": {},
   "outputs": [],
   "source": [
    "import os\n",
    "os.environ['PREFIX'] = '/home/fbrito/.conda/envs/env_s3'"
   ]
  },
  {
   "cell_type": "markdown",
   "metadata": {},
   "source": [
    "#### Import the packages"
   ]
  },
  {
   "cell_type": "code",
   "execution_count": 27,
   "metadata": {},
   "outputs": [],
   "source": [
    "import os\n",
    "import sys\n",
    "sys.path.append(os.path.join(os.environ['PREFIX'], 'conda-otb/lib/python'))\n",
    "os.environ['OTB_APPLICATION_PATH'] = os.path.join(os.environ['PREFIX'], 'conda-otb/lib/otb/applications')\n",
    "os.environ['GDAL_DATA'] =  os.path.join(os.environ['PREFIX'], 'share/gdal')\n",
    "os.environ['PROJ_LIB'] = os.path.join(os.environ['PREFIX'], 'share/proj')\n",
    "os.environ['GPT_BIN'] = os.path.join(os.environ['PREFIX'], 'snap/bin/gpt')\n",
    "import otbApplication\n",
    "import gdal\n",
    "from helpers import *\n",
    "import geopandas as gp\n",
    "import pandas as pd\n",
    "from shapely.wkt import loads\n",
    "from shapely.geometry import box\n",
    "import cioppy\n",
    "import shutil\n",
    "gdal.UseExceptions()"
   ]
  },
  {
   "cell_type": "code",
   "execution_count": 28,
   "metadata": {},
   "outputs": [
    {
     "name": "stdout",
     "output_type": "stream",
     "text": [
      "The autoreload extension is already loaded. To reload it, use:\n",
      "  %reload_ext autoreload\n"
     ]
    }
   ],
   "source": [
    "%load_ext autoreload\n",
    "%autoreload 2"
   ]
  },
  {
   "cell_type": "code",
   "execution_count": 29,
   "metadata": {},
   "outputs": [],
   "source": [
    "#os.environ['OTB_MAX_RAM_HINT'] = '1024'"
   ]
  },
  {
   "cell_type": "markdown",
   "metadata": {},
   "source": [
    "### Get product metadata"
   ]
  },
  {
   "cell_type": "code",
   "execution_count": 30,
   "metadata": {},
   "outputs": [],
   "source": [
    "ciop = cioppy.Cioppy()"
   ]
  },
  {
   "cell_type": "code",
   "execution_count": 31,
   "metadata": {},
   "outputs": [],
   "source": [
    "input_metadata = gp.GeoDataFrame(ciop.search(end_point=input_reference['value'], \n",
    "                                 params=[],\n",
    "                                 output_fields='identifier,self,wkt,startdate,enddate,enclosure,orbitDirection', \n",
    "                                 model='EOP'))\n",
    "\n",
    "\n",
    "input_metadata['geometry'] = input_metadata['wkt'].apply(loads)\n",
    "input_metadata['startdate'] = pd.to_datetime(input_metadata['startdate'])\n",
    "input_metadata['enddate'] = pd.to_datetime(input_metadata['enddate'])"
   ]
  },
  {
   "cell_type": "code",
   "execution_count": 32,
   "metadata": {},
   "outputs": [
    {
     "data": {
      "text/html": [
       "<div>\n",
       "<style scoped>\n",
       "    .dataframe tbody tr th:only-of-type {\n",
       "        vertical-align: middle;\n",
       "    }\n",
       "\n",
       "    .dataframe tbody tr th {\n",
       "        vertical-align: top;\n",
       "    }\n",
       "\n",
       "    .dataframe thead th {\n",
       "        text-align: right;\n",
       "    }\n",
       "</style>\n",
       "<table border=\"1\" class=\"dataframe\">\n",
       "  <thead>\n",
       "    <tr style=\"text-align: right;\">\n",
       "      <th></th>\n",
       "      <th>enclosure</th>\n",
       "      <th>enddate</th>\n",
       "      <th>identifier</th>\n",
       "      <th>orbitDirection</th>\n",
       "      <th>self</th>\n",
       "      <th>startdate</th>\n",
       "      <th>wkt</th>\n",
       "      <th>geometry</th>\n",
       "    </tr>\n",
       "  </thead>\n",
       "  <tbody>\n",
       "    <tr>\n",
       "      <th>0</th>\n",
       "      <td>https://store.terradue.com/download/sentinel3/...</td>\n",
       "      <td>2019-05-22 04:43:18.601</td>\n",
       "      <td>S3B_SL_1_RBT____20190522T044019_20190522T04431...</td>\n",
       "      <td>DESCENDING</td>\n",
       "      <td>https://catalog.terradue.com/sentinel3/search?...</td>\n",
       "      <td>2019-05-22 04:40:18.601</td>\n",
       "      <td>POLYGON((86.7699 18.1534,87.4784 20.756,88.228...</td>\n",
       "      <td>POLYGON ((86.76990000000001 18.1534, 87.478399...</td>\n",
       "    </tr>\n",
       "  </tbody>\n",
       "</table>\n",
       "</div>"
      ],
      "text/plain": [
       "                                           enclosure                 enddate  \\\n",
       "0  https://store.terradue.com/download/sentinel3/... 2019-05-22 04:43:18.601   \n",
       "\n",
       "                                          identifier orbitDirection  \\\n",
       "0  S3B_SL_1_RBT____20190522T044019_20190522T04431...     DESCENDING   \n",
       "\n",
       "                                                self               startdate  \\\n",
       "0  https://catalog.terradue.com/sentinel3/search?... 2019-05-22 04:40:18.601   \n",
       "\n",
       "                                                 wkt  \\\n",
       "0  POLYGON((86.7699 18.1534,87.4784 20.756,88.228...   \n",
       "\n",
       "                                            geometry  \n",
       "0  POLYGON ((86.76990000000001 18.1534, 87.478399...  "
      ]
     },
     "execution_count": 32,
     "metadata": {},
     "output_type": "execute_result"
    }
   ],
   "source": [
    "input_metadata"
   ]
  },
  {
   "cell_type": "code",
   "execution_count": 33,
   "metadata": {},
   "outputs": [],
   "source": [
    "if input_metadata.iloc[0]['orbitDirection'] != 'DESCENDING':\n",
    "    ciop.log('ERROR','Product cannot be used as input')\n",
    "    raise Exception('Only use products with Orbit=Descending')"
   ]
  },
  {
   "cell_type": "markdown",
   "metadata": {},
   "source": [
    "### Import Sentinel-3 SLSTR product"
   ]
  },
  {
   "cell_type": "code",
   "execution_count": 34,
   "metadata": {},
   "outputs": [],
   "source": [
    "operators = ['Read', \n",
    "             'Rad2Refl',\n",
    "             'Resample',\n",
    "             'Reproject',\n",
    "             'Write']"
   ]
  },
  {
   "cell_type": "code",
   "execution_count": 35,
   "metadata": {},
   "outputs": [],
   "source": [
    "read = dict()\n",
    "\n",
    "s3_path = '{0}/{1}/{1}.SEN3/xfdumanifest.xml'.format(data_path, input_metadata.iloc[0]['identifier'])\n",
    "\n",
    "read['file'] =  s3_path\n",
    "read['formatName'] = 'Sen3_SLSTRL1B_500m'\n",
    "\n",
    "rad2refl = dict()\n",
    "\n",
    "rad2refl['sensor'] = 'SLSTR_500m'\n",
    "rad2refl['copyTiePointGrids'] = 'true'\n",
    "rad2refl['copyFlagBandsAndMasks'] = 'true'\n",
    "rad2refl['copyNonSpectralBands'] = 'true'\n",
    "\n",
    "resample = dict()\n",
    "resample['referenceBandName'] = 'F1_BT_in'\n",
    "\n",
    "reproject = dict()\n",
    "reproject['crs'] = 'EPSG:4326'\n",
    "\n",
    "write = dict()\n",
    "write['file'] = 's3_slstr'"
   ]
  },
  {
   "cell_type": "code",
   "execution_count": 38,
   "metadata": {},
   "outputs": [
    {
     "data": {
      "text/html": [
       "<style type=\"text/css\">.highlight .hll { background-color: #ffffcc }\n",
       ".highlight  { background: #f8f8f8; }\n",
       ".highlight .c { color: #408080; font-style: italic } /* Comment */\n",
       ".highlight .err { border: 1px solid #FF0000 } /* Error */\n",
       ".highlight .k { color: #008000; font-weight: bold } /* Keyword */\n",
       ".highlight .o { color: #666666 } /* Operator */\n",
       ".highlight .ch { color: #408080; font-style: italic } /* Comment.Hashbang */\n",
       ".highlight .cm { color: #408080; font-style: italic } /* Comment.Multiline */\n",
       ".highlight .cp { color: #BC7A00 } /* Comment.Preproc */\n",
       ".highlight .cpf { color: #408080; font-style: italic } /* Comment.PreprocFile */\n",
       ".highlight .c1 { color: #408080; font-style: italic } /* Comment.Single */\n",
       ".highlight .cs { color: #408080; font-style: italic } /* Comment.Special */\n",
       ".highlight .gd { color: #A00000 } /* Generic.Deleted */\n",
       ".highlight .ge { font-style: italic } /* Generic.Emph */\n",
       ".highlight .gr { color: #FF0000 } /* Generic.Error */\n",
       ".highlight .gh { color: #000080; font-weight: bold } /* Generic.Heading */\n",
       ".highlight .gi { color: #00A000 } /* Generic.Inserted */\n",
       ".highlight .go { color: #888888 } /* Generic.Output */\n",
       ".highlight .gp { color: #000080; font-weight: bold } /* Generic.Prompt */\n",
       ".highlight .gs { font-weight: bold } /* Generic.Strong */\n",
       ".highlight .gu { color: #800080; font-weight: bold } /* Generic.Subheading */\n",
       ".highlight .gt { color: #0044DD } /* Generic.Traceback */\n",
       ".highlight .kc { color: #008000; font-weight: bold } /* Keyword.Constant */\n",
       ".highlight .kd { color: #008000; font-weight: bold } /* Keyword.Declaration */\n",
       ".highlight .kn { color: #008000; font-weight: bold } /* Keyword.Namespace */\n",
       ".highlight .kp { color: #008000 } /* Keyword.Pseudo */\n",
       ".highlight .kr { color: #008000; font-weight: bold } /* Keyword.Reserved */\n",
       ".highlight .kt { color: #B00040 } /* Keyword.Type */\n",
       ".highlight .m { color: #666666 } /* Literal.Number */\n",
       ".highlight .s { color: #BA2121 } /* Literal.String */\n",
       ".highlight .na { color: #7D9029 } /* Name.Attribute */\n",
       ".highlight .nb { color: #008000 } /* Name.Builtin */\n",
       ".highlight .nc { color: #0000FF; font-weight: bold } /* Name.Class */\n",
       ".highlight .no { color: #880000 } /* Name.Constant */\n",
       ".highlight .nd { color: #AA22FF } /* Name.Decorator */\n",
       ".highlight .ni { color: #999999; font-weight: bold } /* Name.Entity */\n",
       ".highlight .ne { color: #D2413A; font-weight: bold } /* Name.Exception */\n",
       ".highlight .nf { color: #0000FF } /* Name.Function */\n",
       ".highlight .nl { color: #A0A000 } /* Name.Label */\n",
       ".highlight .nn { color: #0000FF; font-weight: bold } /* Name.Namespace */\n",
       ".highlight .nt { color: #008000; font-weight: bold } /* Name.Tag */\n",
       ".highlight .nv { color: #19177C } /* Name.Variable */\n",
       ".highlight .ow { color: #AA22FF; font-weight: bold } /* Operator.Word */\n",
       ".highlight .w { color: #bbbbbb } /* Text.Whitespace */\n",
       ".highlight .mb { color: #666666 } /* Literal.Number.Bin */\n",
       ".highlight .mf { color: #666666 } /* Literal.Number.Float */\n",
       ".highlight .mh { color: #666666 } /* Literal.Number.Hex */\n",
       ".highlight .mi { color: #666666 } /* Literal.Number.Integer */\n",
       ".highlight .mo { color: #666666 } /* Literal.Number.Oct */\n",
       ".highlight .sa { color: #BA2121 } /* Literal.String.Affix */\n",
       ".highlight .sb { color: #BA2121 } /* Literal.String.Backtick */\n",
       ".highlight .sc { color: #BA2121 } /* Literal.String.Char */\n",
       ".highlight .dl { color: #BA2121 } /* Literal.String.Delimiter */\n",
       ".highlight .sd { color: #BA2121; font-style: italic } /* Literal.String.Doc */\n",
       ".highlight .s2 { color: #BA2121 } /* Literal.String.Double */\n",
       ".highlight .se { color: #BB6622; font-weight: bold } /* Literal.String.Escape */\n",
       ".highlight .sh { color: #BA2121 } /* Literal.String.Heredoc */\n",
       ".highlight .si { color: #BB6688; font-weight: bold } /* Literal.String.Interpol */\n",
       ".highlight .sx { color: #008000 } /* Literal.String.Other */\n",
       ".highlight .sr { color: #BB6688 } /* Literal.String.Regex */\n",
       ".highlight .s1 { color: #BA2121 } /* Literal.String.Single */\n",
       ".highlight .ss { color: #19177C } /* Literal.String.Symbol */\n",
       ".highlight .bp { color: #008000 } /* Name.Builtin.Pseudo */\n",
       ".highlight .fm { color: #0000FF } /* Name.Function.Magic */\n",
       ".highlight .vc { color: #19177C } /* Name.Variable.Class */\n",
       ".highlight .vg { color: #19177C } /* Name.Variable.Global */\n",
       ".highlight .vi { color: #19177C } /* Name.Variable.Instance */\n",
       ".highlight .vm { color: #19177C } /* Name.Variable.Magic */\n",
       ".highlight .il { color: #666666 } /* Literal.Number.Integer.Long */</style>    <div class=\"highlight\"><pre><span></span><span class=\"nt\">&lt;graph&gt;</span>\n",
       "  <span class=\"nt\">&lt;version&gt;</span>1.0<span class=\"nt\">&lt;/version&gt;</span>\n",
       "  <span class=\"nt\">&lt;node</span> <span class=\"na\">id=</span><span class=\"s\">&quot;Read&quot;</span><span class=\"nt\">&gt;</span>\n",
       "    <span class=\"nt\">&lt;operator&gt;</span>Read<span class=\"nt\">&lt;/operator&gt;</span>\n",
       "    <span class=\"nt\">&lt;sources/&gt;</span>\n",
       "    <span class=\"nt\">&lt;parameters</span> <span class=\"na\">class=</span><span class=\"s\">&quot;com.bc.ceres.binding.dom.XppDomElement&quot;</span><span class=\"nt\">&gt;</span>\n",
       "      <span class=\"nt\">&lt;file&gt;</span>/new_disk/data/S3B_SL_1_RBT____20190522T044019_20190522T044319_20190523T100228_0179_025_304_2520_LN2_O_NT_003/S3B_SL_1_RBT____20190522T044019_20190522T044319_20190523T100228_0179_025_304_2520_LN2_O_NT_003.SEN3/xfdumanifest.xml<span class=\"nt\">&lt;/file&gt;</span>\n",
       "      <span class=\"nt\">&lt;formatName&gt;</span>Sen3_SLSTRL1B_500m<span class=\"nt\">&lt;/formatName&gt;</span>\n",
       "    <span class=\"nt\">&lt;/parameters&gt;</span>\n",
       "  <span class=\"nt\">&lt;/node&gt;</span>\n",
       "  <span class=\"nt\">&lt;node</span> <span class=\"na\">id=</span><span class=\"s\">&quot;Rad2Refl&quot;</span><span class=\"nt\">&gt;</span>\n",
       "    <span class=\"nt\">&lt;operator&gt;</span>Rad2Refl<span class=\"nt\">&lt;/operator&gt;</span>\n",
       "    <span class=\"nt\">&lt;sources&gt;</span>\n",
       "      <span class=\"nt\">&lt;sourceProduct</span> <span class=\"na\">refid=</span><span class=\"s\">&quot;Read&quot;</span><span class=\"nt\">/&gt;</span>\n",
       "    <span class=\"nt\">&lt;/sources&gt;</span>\n",
       "    <span class=\"nt\">&lt;parameters</span> <span class=\"na\">class=</span><span class=\"s\">&quot;com.bc.ceres.binding.dom.XppDomElement&quot;</span><span class=\"nt\">&gt;</span>\n",
       "      <span class=\"nt\">&lt;copyNonSpectralBands&gt;</span>true<span class=\"nt\">&lt;/copyNonSpectralBands&gt;</span>\n",
       "      <span class=\"nt\">&lt;conversionMode&gt;</span>RAD_TO_REFL<span class=\"nt\">&lt;/conversionMode&gt;</span>\n",
       "      <span class=\"nt\">&lt;sensor&gt;</span>SLSTR_500m<span class=\"nt\">&lt;/sensor&gt;</span>\n",
       "      <span class=\"nt\">&lt;copyFlagBandsAndMasks&gt;</span>true<span class=\"nt\">&lt;/copyFlagBandsAndMasks&gt;</span>\n",
       "      <span class=\"nt\">&lt;copyTiePointGrids&gt;</span>true<span class=\"nt\">&lt;/copyTiePointGrids&gt;</span>\n",
       "    <span class=\"nt\">&lt;/parameters&gt;</span>\n",
       "  <span class=\"nt\">&lt;/node&gt;</span>\n",
       "  <span class=\"nt\">&lt;node</span> <span class=\"na\">id=</span><span class=\"s\">&quot;Resample&quot;</span><span class=\"nt\">&gt;</span>\n",
       "    <span class=\"nt\">&lt;operator&gt;</span>Resample<span class=\"nt\">&lt;/operator&gt;</span>\n",
       "    <span class=\"nt\">&lt;sources&gt;</span>\n",
       "      <span class=\"nt\">&lt;sourceProduct</span> <span class=\"na\">refid=</span><span class=\"s\">&quot;Rad2Refl&quot;</span><span class=\"nt\">/&gt;</span>\n",
       "    <span class=\"nt\">&lt;/sources&gt;</span>\n",
       "    <span class=\"nt\">&lt;parameters</span> <span class=\"na\">class=</span><span class=\"s\">&quot;com.bc.ceres.binding.dom.XppDomElement&quot;</span><span class=\"nt\">&gt;</span>\n",
       "      <span class=\"nt\">&lt;flagDownsamplingMethod&gt;</span>First<span class=\"nt\">&lt;/flagDownsamplingMethod&gt;</span>\n",
       "      <span class=\"nt\">&lt;targetWidth/&gt;</span>\n",
       "      <span class=\"nt\">&lt;targetHeight/&gt;</span>\n",
       "      <span class=\"nt\">&lt;resamplingPreset/&gt;</span>\n",
       "      <span class=\"nt\">&lt;referenceBandName&gt;</span>F1_BT_in<span class=\"nt\">&lt;/referenceBandName&gt;</span>\n",
       "      <span class=\"nt\">&lt;downsamplingMethod&gt;</span>First<span class=\"nt\">&lt;/downsamplingMethod&gt;</span>\n",
       "      <span class=\"nt\">&lt;targetResolution/&gt;</span>\n",
       "      <span class=\"nt\">&lt;bandResamplings/&gt;</span>\n",
       "      <span class=\"nt\">&lt;upsamplingMethod&gt;</span>Nearest<span class=\"nt\">&lt;/upsamplingMethod&gt;</span>\n",
       "      <span class=\"nt\">&lt;resampleOnPyramidLevels&gt;</span>true<span class=\"nt\">&lt;/resampleOnPyramidLevels&gt;</span>\n",
       "    <span class=\"nt\">&lt;/parameters&gt;</span>\n",
       "  <span class=\"nt\">&lt;/node&gt;</span>\n",
       "  <span class=\"nt\">&lt;node</span> <span class=\"na\">id=</span><span class=\"s\">&quot;Reproject&quot;</span><span class=\"nt\">&gt;</span>\n",
       "    <span class=\"nt\">&lt;operator&gt;</span>Reproject<span class=\"nt\">&lt;/operator&gt;</span>\n",
       "    <span class=\"nt\">&lt;sources&gt;</span>\n",
       "      <span class=\"nt\">&lt;sourceProduct</span> <span class=\"na\">refid=</span><span class=\"s\">&quot;Resample&quot;</span><span class=\"nt\">/&gt;</span>\n",
       "    <span class=\"nt\">&lt;/sources&gt;</span>\n",
       "    <span class=\"nt\">&lt;parameters</span> <span class=\"na\">class=</span><span class=\"s\">&quot;com.bc.ceres.binding.dom.XppDomElement&quot;</span><span class=\"nt\">&gt;</span>\n",
       "      <span class=\"nt\">&lt;referencePixelX/&gt;</span>\n",
       "      <span class=\"nt\">&lt;orthorectify&gt;</span>false<span class=\"nt\">&lt;/orthorectify&gt;</span>\n",
       "      <span class=\"nt\">&lt;referencePixelY/&gt;</span>\n",
       "      <span class=\"nt\">&lt;elevationModelName/&gt;</span>\n",
       "      <span class=\"nt\">&lt;northing/&gt;</span>\n",
       "      <span class=\"nt\">&lt;includeTiePointGrids&gt;</span>true<span class=\"nt\">&lt;/includeTiePointGrids&gt;</span>\n",
       "      <span class=\"nt\">&lt;resamplingName&gt;</span>Nearest<span class=\"nt\">&lt;/resamplingName&gt;</span>\n",
       "      <span class=\"nt\">&lt;easting/&gt;</span>\n",
       "      <span class=\"nt\">&lt;width/&gt;</span>\n",
       "      <span class=\"nt\">&lt;tileSizeX/&gt;</span>\n",
       "      <span class=\"nt\">&lt;height/&gt;</span>\n",
       "      <span class=\"nt\">&lt;tileSizeY/&gt;</span>\n",
       "      <span class=\"nt\">&lt;crs&gt;</span>EPSG:4326<span class=\"nt\">&lt;/crs&gt;</span>\n",
       "      <span class=\"nt\">&lt;noDataValue/&gt;</span>\n",
       "      <span class=\"nt\">&lt;pixelSizeX/&gt;</span>\n",
       "      <span class=\"nt\">&lt;wktFile/&gt;</span>\n",
       "      <span class=\"nt\">&lt;orientation&gt;</span>0<span class=\"nt\">&lt;/orientation&gt;</span>\n",
       "      <span class=\"nt\">&lt;addDeltaBands&gt;</span>false<span class=\"nt\">&lt;/addDeltaBands&gt;</span>\n",
       "      <span class=\"nt\">&lt;pixelSizeY/&gt;</span>\n",
       "    <span class=\"nt\">&lt;/parameters&gt;</span>\n",
       "  <span class=\"nt\">&lt;/node&gt;</span>\n",
       "  <span class=\"nt\">&lt;node</span> <span class=\"na\">id=</span><span class=\"s\">&quot;Write&quot;</span><span class=\"nt\">&gt;</span>\n",
       "    <span class=\"nt\">&lt;operator&gt;</span>Write<span class=\"nt\">&lt;/operator&gt;</span>\n",
       "    <span class=\"nt\">&lt;sources&gt;</span>\n",
       "      <span class=\"nt\">&lt;sourceProduct</span> <span class=\"na\">refid=</span><span class=\"s\">&quot;Reproject&quot;</span><span class=\"nt\">/&gt;</span>\n",
       "    <span class=\"nt\">&lt;/sources&gt;</span>\n",
       "    <span class=\"nt\">&lt;parameters</span> <span class=\"na\">class=</span><span class=\"s\">&quot;com.bc.ceres.binding.dom.XppDomElement&quot;</span><span class=\"nt\">&gt;</span>\n",
       "      <span class=\"nt\">&lt;file&gt;</span>s3_slstr<span class=\"nt\">&lt;/file&gt;</span>\n",
       "      <span class=\"nt\">&lt;clearCacheAfterRowWrite&gt;</span>false<span class=\"nt\">&lt;/clearCacheAfterRowWrite&gt;</span>\n",
       "      <span class=\"nt\">&lt;deleteOutputOnFailure&gt;</span>true<span class=\"nt\">&lt;/deleteOutputOnFailure&gt;</span>\n",
       "      <span class=\"nt\">&lt;writeEntireTileRows&gt;</span>true<span class=\"nt\">&lt;/writeEntireTileRows&gt;</span>\n",
       "      <span class=\"nt\">&lt;formatName&gt;</span>BEAM-DIMAP<span class=\"nt\">&lt;/formatName&gt;</span>\n",
       "    <span class=\"nt\">&lt;/parameters&gt;</span>\n",
       "  <span class=\"nt\">&lt;/node&gt;</span>\n",
       "<span class=\"nt\">&lt;/graph&gt;</span>\n",
       "</pre></div>\n"
      ],
      "text/plain": [
       "<IPython.core.display.HTML object>"
      ]
     },
     "metadata": {},
     "output_type": "display_data"
    }
   ],
   "source": [
    "snap_graph(os.environ['GPT_BIN'],\n",
    "           operators,\n",
    "              Read=read, \n",
    "              Rad2Refl=rad2refl,\n",
    "              Resample=resample,\n",
    "              Reproject=reproject,\n",
    "              Write=write)"
   ]
  },
  {
   "cell_type": "markdown",
   "metadata": {},
   "source": [
    "### RGB Composites"
   ]
  },
  {
   "cell_type": "code",
   "execution_count": 39,
   "metadata": {},
   "outputs": [],
   "source": [
    "output_startdate = input_metadata.iloc[0]['startdate']\n",
    "output_stopdate = input_metadata.iloc[0]['enddate']"
   ]
  },
  {
   "cell_type": "code",
   "execution_count": 46,
   "metadata": {},
   "outputs": [],
   "source": [
    "composites = dict()\n",
    "\n",
    "composites['S3 SLSTR False color Infrared'] = {'bands': 'S3_reflectance_an,S2_reflectance_an,S1_reflectance_an',\n",
    "                                               'create': True if (false_color_infrared['value'] == 'Yes') else False,\n",
    "                                               'hfact': 3.0}\n",
    "\n",
    "composites['S3 SLSTR False color 1'] = {'bands': 'S8_BT_in,S1_reflectance_an,S5_reflectance_an',\n",
    "                                               'create': True if (false_color_1['value'] == 'Yes') else False,\n",
    "                                               'hfact': 3.0}\n",
    "\n",
    "composites['S3 SLSTR False color 2'] = {'bands': 'S5_reflectance_an,S3_reflectance_an,S2_reflectance_an',\n",
    "                                               'create': True if (false_color_2['value'] == 'Yes') else False,\n",
    "                                               'hfact': 3.0}"
   ]
  },
  {
   "cell_type": "code",
   "execution_count": 47,
   "metadata": {},
   "outputs": [
    {
     "name": "stdout",
     "output_type": "stream",
     "text": [
      "S3 SLSTR False color Infrared\n",
      "['s3_slstr.data/S3_reflectance_an.img', 's3_slstr.data/S2_reflectance_an.img', 's3_slstr.data/S1_reflectance_an.img', 's3_slstr.data/cloud_an.img', 's3_slstr.data/confidence_an.img', 's3_slstr.data/S2_exception_an.img']\n",
      "2020-05-24 00:41:53 (INFO) ContrastEnhancement: The application has been launched with the following parameters :\n",
      "- number of bins : 256\n",
      "- contrast limtaition factor : 3\n",
      "- spatial parameters : local with a thumbnail of 500 X 500\n",
      "- equalisation of the luminance\n",
      "- Min/Max parameters : automatic\n",
      "2020-05-24 00:41:53 (INFO): Estimated memory for full processing: 358.238MB (avail.: 256 MB), optimal image partitioning: 2 blocks\n",
      "2020-05-24 00:41:53 (INFO): Estimation will be performed in 4 blocks of 1920x1920 pixels\n",
      "Computing statistics: 100% [**************************************************] (2s)\n",
      "2020-05-24 00:41:55 (INFO) ContrastEnhancement: Minimum and maximum are for each channel : \n",
      "3.44 and 250.45\n",
      "S3 SLSTR False color 2\n",
      "['s3_slstr.data/S5_reflectance_an.img', 's3_slstr.data/S3_reflectance_an.img', 's3_slstr.data/S2_reflectance_an.img', 's3_slstr.data/cloud_an.img', 's3_slstr.data/confidence_an.img', 's3_slstr.data/S2_exception_an.img']\n",
      "2020-05-24 00:42:04 (INFO) ContrastEnhancement: The application has been launched with the following parameters :\n",
      "- number of bins : 256\n",
      "- contrast limtaition factor : 3\n",
      "- spatial parameters : local with a thumbnail of 500 X 500\n",
      "- equalisation of the luminance\n",
      "- Min/Max parameters : automatic\n",
      "2020-05-24 00:42:04 (INFO): Estimated memory for full processing: 358.238MB (avail.: 256 MB), optimal image partitioning: 2 blocks\n",
      "2020-05-24 00:42:04 (INFO): Estimation will be performed in 4 blocks of 1920x1920 pixels\n",
      "Computing statistics: 100% [**************************************************] (2s)\n",
      "2020-05-24 00:42:06 (INFO) ContrastEnhancement: Minimum and maximum are for each channel : \n",
      "1.11 and 226.72\n",
      "S3 SLSTR False color 1\n",
      "['s3_slstr.data/S8_BT_in.img', 's3_slstr.data/S1_reflectance_an.img', 's3_slstr.data/S5_reflectance_an.img', 's3_slstr.data/cloud_an.img', 's3_slstr.data/confidence_an.img', 's3_slstr.data/S2_exception_an.img']\n",
      "2020-05-24 00:42:15 (INFO) ContrastEnhancement: The application has been launched with the following parameters :\n",
      "- number of bins : 256\n",
      "- contrast limtaition factor : 3\n",
      "- spatial parameters : local with a thumbnail of 500 X 500\n",
      "- equalisation of the luminance\n",
      "- Min/Max parameters : automatic\n",
      "2020-05-24 00:42:15 (INFO): Estimated memory for full processing: 358.238MB (avail.: 256 MB), optimal image partitioning: 2 blocks\n",
      "2020-05-24 00:42:15 (INFO): Estimation will be performed in 4 blocks of 1920x1920 pixels\n",
      "Computing statistics: 100% [**************************************************] (3s)\n",
      "2020-05-24 00:42:18 (INFO) ContrastEnhancement: Minimum and maximum are for each channel : \n",
      "2.97 and 246.85\n"
     ]
    }
   ],
   "source": [
    "for k, v in composites.items():\n",
    "    \n",
    "    print(k)\n",
    "    \n",
    "    bands = [os.path.join(write['file'] + '.data',  '{}.img'.format(band)) for band in (composites[k]['bands'].split(',') +  \n",
    "                                                                         ['cloud_an',\n",
    "                                                                          'confidence_an',\n",
    "                                                                          'S2_exception_an'])]\n",
    "    \n",
    "    print(bands)\n",
    "    \n",
    "    ds = gdal.Open(bands[0])\n",
    "\n",
    "    geo_transform = ds.GetGeoTransform()\n",
    "    projection_ref = ds.GetProjectionRef()\n",
    "    \n",
    "    ds = None\n",
    "    \n",
    "    s3_rgb_data = read_s3(bands)\n",
    "    \n",
    "    red = s3_rgb_data[:,:,0]\n",
    "    green = s3_rgb_data[:,:,1]\n",
    "    blue = s3_rgb_data[:,:,2]\n",
    "    cloud = s3_rgb_data[:,:,3]\n",
    "    confidence = s3_rgb_data[:,:,4]\n",
    "    exception = s3_rgb_data[:,:,5]\n",
    "\n",
    "    date_format = '%Y%m%dT%H%m%S'\n",
    "    \n",
    "    output_name = '-'.join([k.replace(' ', '-').upper(), \n",
    "                            output_startdate.strftime(date_format), \n",
    "                            output_startdate.strftime(date_format)])\n",
    "    \n",
    "    s3_rgb_composite(red, \n",
    "                     green,\n",
    "                     blue, \n",
    "                     cloud, \n",
    "                     confidence,\n",
    "                     exception,\n",
    "                     geo_transform,\n",
    "                     projection_ref, \n",
    "                     output_name + '.tif')\n",
    "    \n",
    "     # PNG\n",
    "    gdal.Translate('{}.png'.format(output_name), \n",
    "                   '{}.tif'.format(output_name), \n",
    "                   format='PNG')\n",
    "\n",
    "    os.remove('{}.png.aux.xml'.format(output_name))\n",
    "    \n",
    "    \n",
    "    date_format = '%Y-%m-%dT%H:%m:%S'\n",
    "    \n",
    "    with open(output_name + '.tif.properties', 'w') as file:\n",
    "        file.write('title={} ({}/{})\\n'.format(k, \n",
    "                                               output_startdate.strftime(date_format),\n",
    "                                               output_stopdate.strftime(date_format)))\n",
    "\n",
    "        file.write('date={}Z/{}Z\\n'.format(output_startdate.strftime(date_format),\n",
    "                                               output_stopdate.strftime(date_format)))   \n",
    "        file.write('geometry={}'.format(input_metadata.iloc[0].wkt))\n",
    "\n",
    "   \n",
    "\n",
    "    with open(output_name + '.png.properties', 'w') as file:\n",
    "        file.write('title={} - Quicklook ({}/{})\\n'.format(k, \n",
    "                                               output_startdate.strftime(date_format),\n",
    "                                               output_stopdate.strftime(date_format)))\n",
    "\n",
    "        file.write('date={}Z/{}Z\\n'.format(output_startdate.strftime(date_format),\n",
    "                                           output_stopdate.strftime(date_format)))   \n",
    "        file.write('geometry={}'.format(input_metadata.iloc[0].wkt))"
   ]
  },
  {
   "cell_type": "markdown",
   "metadata": {},
   "source": [
    "### Clean-up"
   ]
  },
  {
   "cell_type": "code",
   "execution_count": 48,
   "metadata": {},
   "outputs": [],
   "source": [
    "shutil.rmtree('{}.data'.format(write['file']))"
   ]
  },
  {
   "cell_type": "code",
   "execution_count": 49,
   "metadata": {},
   "outputs": [],
   "source": [
    "os.remove('{}.dim'.format(write['file']))"
   ]
  },
  {
   "cell_type": "markdown",
   "metadata": {},
   "source": [
    "### License"
   ]
  },
  {
   "cell_type": "markdown",
   "metadata": {},
   "source": [
    "This work is licenced under a [Attribution-ShareAlike 4.0 International License (CC BY-SA 4.0)](http://creativecommons.org/licenses/by-sa/4.0/) \n",
    "\n",
    "YOU ARE FREE TO:\n",
    "\n",
    "* Share - copy and redistribute the material in any medium or format.\n",
    "* Adapt - remix, transform, and built upon the material for any purpose, even commercially.\n",
    "\n",
    "UNDER THE FOLLOWING TERMS:\n",
    "\n",
    "* Attribution - You must give appropriate credit, provide a link to the license, and indicate if changes were made. You may do so in any reasonable manner, but not in any way that suggests the licensor endorses you or your use.\n",
    "* ShareAlike - If you remix, transform, or build upon the material, you must distribute your contributions under the same license as the original."
   ]
  },
  {
   "cell_type": "code",
   "execution_count": null,
   "metadata": {
    "collapsed": true
   },
   "outputs": [],
   "source": []
  }
 ],
 "metadata": {
  "kernelspec": {
   "display_name": "Python [conda env:.conda-env_s3]",
   "language": "python",
   "name": "conda-env-.conda-env_s3-py"
  },
  "language_info": {
   "codemirror_mode": {
    "name": "ipython",
    "version": 3
   },
   "file_extension": ".py",
   "mimetype": "text/x-python",
   "name": "python",
   "nbconvert_exporter": "python",
   "pygments_lexer": "ipython3",
   "version": "3.5.5"
  }
 },
 "nbformat": 4,
 "nbformat_minor": 2
}
